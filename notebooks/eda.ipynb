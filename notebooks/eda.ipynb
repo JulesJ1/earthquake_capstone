{
 "cells": [
  {
   "cell_type": "code",
   "execution_count": 1,
   "id": "76b08d94",
   "metadata": {},
   "outputs": [],
   "source": [
    "from utils.db_utils import get_time\n",
    "import pandas as pd\n",
    "from utils.logging_utils import setup_logger\n",
    "import logging\n",
    "import time\n",
    "from sqlalchemy.exc import DatabaseError, TimeoutError\n",
    "from config.db_config import load_db_config\n",
    "from utils.db_utils import create_db_engine\n",
    "from utils.db_utils import create_connection\n"
   ]
  },
  {
   "cell_type": "code",
   "execution_count": null,
   "id": "27ee936b",
   "metadata": {},
   "outputs": [],
   "source": [
    "db_details = load_db_config()['target_database']\n",
    "\n",
    "engine = create_db_engine(db_details)\n",
    "conn = create_connection(engine)"
   ]
  },
  {
   "cell_type": "code",
   "execution_count": 3,
   "id": "3b524bfc",
   "metadata": {},
   "outputs": [],
   "source": [
    "df = pd.read_sql(\"SELECT * FROM c12de.jj_capstone \",\n",
    "    con=conn\n",
    ")"
   ]
  },
  {
   "cell_type": "code",
   "execution_count": null,
   "id": "c11f235f",
   "metadata": {},
   "outputs": [],
   "source": [
    "df.head"
   ]
  },
  {
   "cell_type": "code",
   "execution_count": null,
   "id": "c1581733",
   "metadata": {},
   "outputs": [],
   "source": [
    "import seaborn as sns\n",
    "\n",
    "teststarttime = pd.to_datetime('2025-03-05T00:00:46')\n",
    "testendtime = pd.to_datetime('2025-05-05T17:05:58')\n",
    "\n",
    "mask = (df['time'] > teststarttime) & (df['time'] <= testendtime)\n",
    "df2 = df.loc[mask]\n",
    "df2.head()\n",
    "\n"
   ]
  },
  {
   "cell_type": "code",
   "execution_count": null,
   "id": "82193268",
   "metadata": {},
   "outputs": [],
   "source": [
    "sns.jointplot(data = df2, x = \"time\", y=\"magnitude\")"
   ]
  },
  {
   "cell_type": "code",
   "execution_count": null,
   "id": "66cc76d7",
   "metadata": {},
   "outputs": [],
   "source": [
    "sns.countplot(data=df2, x=\"location\", order=df.location.value_counts().iloc[:10].index)"
   ]
  },
  {
   "cell_type": "code",
   "execution_count": null,
   "id": "21ca0c9b",
   "metadata": {},
   "outputs": [],
   "source": [
    "sns.histplot(data=df2, x=\"magnitude\")"
   ]
  }
 ],
 "metadata": {
  "kernelspec": {
   "display_name": ".venv",
   "language": "python",
   "name": "python3"
  },
  "language_info": {
   "codemirror_mode": {
    "name": "ipython",
    "version": 3
   },
   "file_extension": ".py",
   "mimetype": "text/x-python",
   "name": "python",
   "nbconvert_exporter": "python",
   "pygments_lexer": "ipython3",
   "version": "3.13.3"
  }
 },
 "nbformat": 4,
 "nbformat_minor": 5
}
