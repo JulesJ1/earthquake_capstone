{
 "cells": [
  {
   "cell_type": "code",
   "execution_count": 2,
   "id": "2283c11d",
   "metadata": {},
   "outputs": [],
   "source": [
    "import pandas as pd\n",
    "import requests"
   ]
  },
  {
   "cell_type": "code",
   "execution_count": 3,
   "id": "faab6f8d",
   "metadata": {},
   "outputs": [
    {
     "data": {
      "text/plain": [
       "{'geometry': {'type': 'Point', 'coordinates': [-98.47, 18.59, -50.0]},\n",
       " 'type': 'Feature',\n",
       " 'id': '20170919_0000091',\n",
       " 'properties': {'lastupdate': '2017-09-19T18:42:00.0Z',\n",
       "  'magtype': 'mw',\n",
       "  'evtype': 'ke',\n",
       "  'lon': -98.47,\n",
       "  'auth': 'EMSC',\n",
       "  'lat': 18.59,\n",
       "  'depth': 50.0,\n",
       "  'unid': '20170919_0000091',\n",
       "  'mag': 7.1,\n",
       "  'time': '2017-09-19T18:14:38.5Z',\n",
       "  'source_id': '619258',\n",
       "  'source_catalog': 'EMSC-RTS',\n",
       "  'flynn_region': 'PUEBLA, MEXICO'}}"
      ]
     },
     "execution_count": 3,
     "metadata": {},
     "output_type": "execute_result"
    }
   ],
   "source": [
    "url = \"http://www.seismicportal.eu/fdsnws/event/1/query?eventid=20170919_0000091&format=json\"\n",
    "\n",
    "data = requests.get(url)\n",
    "\n",
    "data.json()"
   ]
  },
  {
   "cell_type": "code",
   "execution_count": null,
   "id": "234fd595",
   "metadata": {},
   "outputs": [],
   "source": [
    "# df columns: magnitude, location, time, type, longitude, latitude, depth, nearestCity\n"
   ]
  }
 ],
 "metadata": {
  "kernelspec": {
   "display_name": ".venv",
   "language": "python",
   "name": "python3"
  },
  "language_info": {
   "codemirror_mode": {
    "name": "ipython",
    "version": 3
   },
   "file_extension": ".py",
   "mimetype": "text/x-python",
   "name": "python",
   "nbconvert_exporter": "python",
   "pygments_lexer": "ipython3",
   "version": "3.13.2"
  }
 },
 "nbformat": 4,
 "nbformat_minor": 5
}
