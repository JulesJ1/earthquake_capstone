{
 "cells": [
  {
   "cell_type": "code",
   "execution_count": 44,
   "metadata": {},
   "outputs": [],
   "source": [
    "import pandas as pd\n",
    "from sqlalchemy import create_engine, text,insert, MetaData, Table, Column, VARCHAR, INT\n",
    "from sqlalchemy.exc import InvalidRequestError\n",
    "import sqlite3\n",
    "import os\n",
    "from dotenv import load_dotenv\n",
    "\n",
    "from etl.extract.extract import extract_api\n",
    "from etl.transform.transform import clean_earthquake_data\n",
    "from config.db_config import load_db_config"
   ]
  },
  {
   "cell_type": "markdown",
   "metadata": {},
   "source": [
    "## Loading Data Into In-Memory Database"
   ]
  },
  {
   "cell_type": "code",
   "execution_count": 2,
   "metadata": {},
   "outputs": [],
   "source": [
    "teststarttime = '2025-04-05T00:00:46'\n",
    "testendtime = '2025-05-05T17:05:58'\n",
    "dfa = extract_api(teststarttime, testendtime)"
   ]
  },
  {
   "cell_type": "code",
   "execution_count": 3,
   "metadata": {},
   "outputs": [],
   "source": [
    "dfa = clean_earthquake_data(dfa)"
   ]
  },
  {
   "cell_type": "code",
   "execution_count": null,
   "metadata": {},
   "outputs": [],
   "source": [
    "dfa.head()"
   ]
  },
  {
   "cell_type": "code",
   "execution_count": 9,
   "metadata": {},
   "outputs": [],
   "source": [
    "\n",
    "\n",
    "data = {\n",
    "    'customer_id': range(1, 10001),  # 10,000 rows\n",
    "    'name': [f'Customer {i}' for i in range(1, 10001)],\n",
    "    'email': [f'customer{i}@example.com' for i in range(1, 10001)],\n",
    "    'city': ['City A' if i % 2 == 0 else 'City B' for i in range(1, 10001)]\n",
    "}\n",
    "\n",
    "\n",
    "df = pd.DataFrame(data)\n",
    "     \n"
   ]
  },
  {
   "cell_type": "code",
   "execution_count": null,
   "metadata": {},
   "outputs": [],
   "source": [
    "engine = create_engine('sqlite:///:memory:')\n",
    "\n",
    "with engine.connect() as conn:\n",
    "    conn.execute(text('''\n",
    "        CREATE TABLE earthquakes (\n",
    "            id VARCHAR(20) PRIMARY KEY,\n",
    "            magnitude INT,\n",
    "            location VARCHAR(255),\n",
    "            time DATETIME,\n",
    "            type VARCHAR(20),\n",
    "            longitude INT,\n",
    "            latitude INT,\n",
    "            depth INT,\n",
    "            nearestCity VARCHAR(70)                        \n",
    "        );\n",
    "    '''))\n",
    "\n",
    "dfa.to_sql('earthquakes', engine, if_exists='append', index=False, method='multi', chunksize=1000)"
   ]
  },
  {
   "cell_type": "code",
   "execution_count": null,
   "metadata": {},
   "outputs": [],
   "source": [
    "with engine.connect() as conn:\n",
    "    result = conn.execute(text('SELECT COUNT(*) FROM earthquakes'))\n",
    "    print(f'Total rows imported: {result.fetchone()[0]}')\n",
    "\n",
    "    # Optionally, display a few rows to verify\n",
    "    result = conn.execute(text('SELECT * FROM earthquakes LIMIT 5'))\n",
    "    for row in result:\n",
    "        print(row)"
   ]
  },
  {
   "cell_type": "markdown",
   "metadata": {},
   "source": [
    "## Loading Data Into Local Postgres Database"
   ]
  },
  {
   "cell_type": "code",
   "execution_count": null,
   "metadata": {},
   "outputs": [],
   "source": [
    "\n",
    "db_details = load_db_config()['target_database']"
   ]
  },
  {
   "cell_type": "code",
   "execution_count": null,
   "metadata": {},
   "outputs": [],
   "source": [
    "try:\n",
    "    engine = create_engine(f'postgresql://{db_details['user']}:{db_details['password']}@{db_details['host']}:{db_details['port']}/{db_details['dbname']}')\n",
    "except Exception as e:\n",
    "    print(f'Cannot connect: {e}')"
   ]
  },
  {
   "cell_type": "code",
   "execution_count": 34,
   "metadata": {},
   "outputs": [],
   "source": [
    "meta = MetaData()"
   ]
  },
  {
   "cell_type": "code",
   "execution_count": null,
   "metadata": {},
   "outputs": [],
   "source": [
    "\n",
    "try:\n",
    "    earthquake_test_1 = Table('earthquake_test_1',meta, Column('id',INT ,primary_key=True))\n",
    "    meta.create_all(engine)\n",
    "except InvalidRequestError as e: \n",
    "    print(f'Table already exists: {e}')                      \n",
    "\n"
   ]
  },
  {
   "cell_type": "code",
   "execution_count": null,
   "metadata": {},
   "outputs": [],
   "source": [
    "dfa[:10].to_sql('earthquakes_test_2',engine,if_exists='replace')"
   ]
  },
  {
   "cell_type": "code",
   "execution_count": null,
   "metadata": {},
   "outputs": [],
   "source": [
    "conn = engine.connect()\n",
    "output = conn.execute(\"SELECT * FROM earthquakes_test_2\")\n",
    "print(output.fetchall())"
   ]
  }
 ],
 "metadata": {
  "language_info": {
   "name": "python"
  }
 },
 "nbformat": 4,
 "nbformat_minor": 2
}
