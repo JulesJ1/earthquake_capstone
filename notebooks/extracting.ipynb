{
 "cells": [
  {
   "cell_type": "code",
   "execution_count": null,
   "id": "835b911b",
   "metadata": {},
   "outputs": [],
   "source": [
    "import pandas as pd\n",
    "import requests\n",
    "from datetime import timezone\n",
    "import datetime"
   ]
  },
  {
   "cell_type": "code",
   "execution_count": 11,
   "id": "ae518988",
   "metadata": {},
   "outputs": [
    {
     "name": "stdout",
     "output_type": "stream",
     "text": [
      "2025-05-06 13:35:23.319662\n"
     ]
    }
   ],
   "source": [
    "from datetime import timezone\n",
    "import datetime\n",
    "\n",
    "# Getting the current date and time\n",
    "dt = datetime.datetime.now()\n",
    "print(dt)\n"
   ]
  },
  {
   "cell_type": "code",
   "execution_count": 12,
   "id": "cc95025f",
   "metadata": {},
   "outputs": [],
   "source": [
    "query = 'https://earthquake.usgs.gov/fdsnws/event/1/query?format=geojson&starttime=2025-05-05T12:00:00&endtime=2025-05-06T12:00:00'\n",
    "data = requests.get(query)"
   ]
  },
  {
   "cell_type": "code",
   "execution_count": 15,
   "id": "50cd52a2",
   "metadata": {},
   "outputs": [
    {
     "data": {
      "text/plain": [
       "208"
      ]
     },
     "execution_count": 15,
     "metadata": {},
     "output_type": "execute_result"
    }
   ],
   "source": [
    "len(data.json()['features'])"
   ]
  }
 ],
 "metadata": {
  "kernelspec": {
   "display_name": "Python 3",
   "language": "python",
   "name": "python3"
  },
  "language_info": {
   "codemirror_mode": {
    "name": "ipython",
    "version": 3
   },
   "file_extension": ".py",
   "mimetype": "text/x-python",
   "name": "python",
   "nbconvert_exporter": "python",
   "pygments_lexer": "ipython3",
   "version": "3.13.2"
  }
 },
 "nbformat": 4,
 "nbformat_minor": 5
}
