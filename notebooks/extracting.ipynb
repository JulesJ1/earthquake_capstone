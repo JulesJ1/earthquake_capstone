{
 "cells": [
  {
   "cell_type": "code",
   "execution_count": 1,
   "id": "835b911b",
   "metadata": {},
   "outputs": [],
   "source": [
    "import pandas as pd\n",
    "import requests\n",
    "from datetime import timezone\n",
    "import datetime"
   ]
  },
  {
   "cell_type": "code",
   "execution_count": 11,
   "id": "ae518988",
   "metadata": {},
   "outputs": [
    {
     "name": "stdout",
     "output_type": "stream",
     "text": [
      "2025-05-06 13:35:23.319662\n"
     ]
    }
   ],
   "source": [
    "from datetime import timezone\n",
    "import datetime\n",
    "\n",
    "# Getting the current date and time\n",
    "dt = datetime.datetime.now()\n",
    "print(dt)\n"
   ]
  },
  {
   "cell_type": "code",
   "execution_count": 2,
   "id": "cc95025f",
   "metadata": {},
   "outputs": [],
   "source": [
    "query = 'https://earthquake.usgs.gov/fdsnws/event/1/query?format=geojson&starttime=2025-05-05T12:00:00&endtime=2025-05-06T12:00:00'\n",
    "data = requests.get(query)"
   ]
  },
  {
   "cell_type": "code",
   "execution_count": null,
   "id": "e4d7284a",
   "metadata": {},
   "outputs": [],
   "source": [
    "data.json()"
   ]
  },
  {
   "cell_type": "code",
   "execution_count": null,
   "id": "39771893",
   "metadata": {},
   "outputs": [],
   "source": [
    "df2 = pd.json_normalize(data.json(),\"features\")\n",
    "df2.head()"
   ]
  },
  {
   "cell_type": "code",
   "execution_count": 7,
   "id": "50cd52a2",
   "metadata": {},
   "outputs": [],
   "source": [
    "def extract_api(starttime,endttime):\n",
    "    try:\n",
    "        query = f'https://earthquake.usgs.gov/fdsnws/event/1/query?format=geojson&starttime={starttime}&endtime={endttime}'\n",
    "        data = requests.get(query)\n",
    "        df = pd.json_normalize(data.json(),'features')\n",
    "        return df\n",
    "\n",
    "    except Exception as e:\n",
    "        print(f'unable to retrieve data: {e} ')\n",
    "        "
   ]
  }
 ],
 "metadata": {
  "kernelspec": {
   "display_name": "Python 3",
   "language": "python",
   "name": "python3"
  },
  "language_info": {
   "codemirror_mode": {
    "name": "ipython",
    "version": 3
   },
   "file_extension": ".py",
   "mimetype": "text/x-python",
   "name": "python",
   "nbconvert_exporter": "python",
   "pygments_lexer": "ipython3",
   "version": "3.13.2"
  }
 },
 "nbformat": 4,
 "nbformat_minor": 5
}
