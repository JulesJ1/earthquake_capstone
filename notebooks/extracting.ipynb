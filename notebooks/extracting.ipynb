{
 "cells": [
  {
   "cell_type": "code",
   "execution_count": 40,
   "id": "835b911b",
   "metadata": {},
   "outputs": [
    {
     "name": "stderr",
     "output_type": "stream",
     "text": [
      "Matplotlib is building the font cache; this may take a moment.\n"
     ]
    }
   ],
   "source": [
    "import pandas as pd\n",
    "import requests\n",
    "import seaborn as sb"
   ]
  },
  {
   "cell_type": "code",
   "execution_count": 62,
   "id": "cc95025f",
   "metadata": {},
   "outputs": [],
   "source": [
    "teststarttime = '2025-04-05T00:00:46'\n",
    "testendtime = '2025-05-05T17:05:58'\n",
    "query = f'https://earthquake.usgs.gov/fdsnws/event/1/query?format=geojson&starttime={teststarttime}&endtime={testendtime}'\n",
    "data = requests.get(query)"
   ]
  },
  {
   "cell_type": "code",
   "execution_count": null,
   "id": "e4d7284a",
   "metadata": {},
   "outputs": [],
   "source": [
    "data.json()"
   ]
  },
  {
   "cell_type": "code",
   "execution_count": null,
   "id": "39771893",
   "metadata": {},
   "outputs": [],
   "source": [
    "df2 = pd.json_normalize(data.json(),\"features\")\n",
    "df2.head()"
   ]
  },
  {
   "cell_type": "code",
   "execution_count": 3,
   "id": "50cd52a2",
   "metadata": {},
   "outputs": [],
   "source": [
    "def extract_api(starttime,endttime):\n",
    "    try:\n",
    "        query = f'https://earthquake.usgs.gov/fdsnws/event/1/query?format=geojson&starttime={starttime}&endtime={endttime}'\n",
    "        data = requests.get(query)\n",
    "        df = pd.json_normalize(data.json(),'features')\n",
    "        return df\n",
    "\n",
    "    except Exception as e:\n",
    "        print(f'unable to retrieve data: {e} ')\n",
    "        "
   ]
  },
  {
   "cell_type": "code",
   "execution_count": null,
   "id": "971bc191",
   "metadata": {},
   "outputs": [],
   "source": [
    "teststarttime = '2025-04-05T00:00:46'\n",
    "testendtime = '2025-05-05T17:05:58'\n",
    "#'2025-05-05T12:00:00'\n",
    "#'2025-05-06T12:00:00'\n",
    "dfdirty = extract_api(teststarttime,testendtime)\n",
    "dfdirty.head()\n"
   ]
  },
  {
   "cell_type": "code",
   "execution_count": 102,
   "id": "b36a8c5e",
   "metadata": {},
   "outputs": [],
   "source": [
    "df = dfdirty.copy()"
   ]
  },
  {
   "cell_type": "code",
   "execution_count": null,
   "id": "3c5ffcbb",
   "metadata": {},
   "outputs": [],
   "source": [
    "df.describe()"
   ]
  },
  {
   "cell_type": "code",
   "execution_count": null,
   "id": "eac77c2b",
   "metadata": {},
   "outputs": [],
   "source": [
    "df.isnull().sum()"
   ]
  },
  {
   "cell_type": "code",
   "execution_count": null,
   "id": "2f1e064d",
   "metadata": {},
   "outputs": [],
   "source": [
    "df.columns"
   ]
  },
  {
   "cell_type": "code",
   "execution_count": 103,
   "id": "959951e5",
   "metadata": {},
   "outputs": [],
   "source": [
    "columns = [\n",
    "\n",
    "    'properties.updated','properties.tz','properties.url','properties.detail',\n",
    "    'properties.felt','properties.cdi','properties.mmi','properties.alert',\n",
    "    'properties.status','properties.tsunami','properties.sig','properties.net',\n",
    "    'properties.code','properties.ids','properties.sources','properties.types',\n",
    "    'properties.nst','properties.dmin','properties.rms','properties.gap',\n",
    "    'properties.magType','properties.title','geometry.type', 'type'  \n",
    "]\n",
    "df = df.drop(columns=columns)\n",
    "df = df.dropna(subset=['properties.mag'])"
   ]
  },
  {
   "cell_type": "code",
   "execution_count": 104,
   "id": "197989fd",
   "metadata": {},
   "outputs": [],
   "source": [
    "names = {\n",
    "    'properties.type':'type',\n",
    "    'properties.mag':'magnitude',\n",
    "    'properties.place':'location',\n",
    "    'properties.time':'time',\n",
    "}\n",
    "df = df.rename(columns = names)"
   ]
  },
  {
   "cell_type": "code",
   "execution_count": null,
   "id": "0659a694",
   "metadata": {},
   "outputs": [],
   "source": [
    "df['properties.time'] = pd.to_datetime(df['properties.time'],unit='ms')"
   ]
  },
  {
   "cell_type": "code",
   "execution_count": 106,
   "id": "ebd5edc1",
   "metadata": {},
   "outputs": [],
   "source": [
    "df_coordinates = df['geometry.coordinates'].apply(pd.Series).round(2)\n",
    "df_coordinates.columns = ['longitude','latitude','depth']\n",
    "\n",
    "df.drop(columns=['geometry.coordinates'], inplace=True)\n",
    "df = pd.merge(df,df_coordinates,left_index=True,right_index=True)"
   ]
  },
  {
   "cell_type": "code",
   "execution_count": null,
   "id": "b56d5a0a",
   "metadata": {},
   "outputs": [],
   "source": [
    "df"
   ]
  },
  {
   "cell_type": "code",
   "execution_count": 107,
   "id": "9a15e93b",
   "metadata": {},
   "outputs": [
    {
     "data": {
      "text/plain": [
       "np.int64(0)"
      ]
     },
     "execution_count": 107,
     "metadata": {},
     "output_type": "execute_result"
    }
   ],
   "source": [
    "def nearest_city(location):\n",
    "    if ',' in location:\n",
    "        return location.split(',')[0]\n",
    "    else:\n",
    "        return 'None'\n",
    "\n",
    "df['nearestCity'] = df['location'].apply(nearest_city)\n",
    "df['nearestCity'].isnull().sum()"
   ]
  },
  {
   "cell_type": "code",
   "execution_count": 108,
   "id": "72bbdaba",
   "metadata": {},
   "outputs": [],
   "source": [
    "df['location'] = df['location'].apply(lambda x: x.split(',')[-1].strip())"
   ]
  },
  {
   "cell_type": "code",
   "execution_count": null,
   "id": "52dc2e52",
   "metadata": {},
   "outputs": [],
   "source": [
    "df['time']"
   ]
  },
  {
   "cell_type": "code",
   "execution_count": null,
   "id": "7989ecfc",
   "metadata": {},
   "outputs": [],
   "source": [
    "df['time'].dt.floor('S')"
   ]
  },
  {
   "cell_type": "code",
   "execution_count": null,
   "id": "7408cdee",
   "metadata": {},
   "outputs": [],
   "source": [
    "df['magnitude'].transform(lambda x:(x/x.mean()*100))"
   ]
  },
  {
   "cell_type": "code",
   "execution_count": 109,
   "id": "ea81d2ad",
   "metadata": {},
   "outputs": [
    {
     "data": {
      "text/plain": [
       "2"
      ]
     },
     "execution_count": 109,
     "metadata": {},
     "output_type": "execute_result"
    }
   ],
   "source": [
    "len(df['location'][0])"
   ]
  },
  {
   "cell_type": "code",
   "execution_count": null,
   "id": "a34e3e2b",
   "metadata": {},
   "outputs": [],
   "source": [
    "\n",
    "df2 = df[df['location'].str.len() == 2]\n",
    "\n",
    "df2"
   ]
  },
  {
   "cell_type": "code",
   "execution_count": null,
   "id": "8b77de1c",
   "metadata": {},
   "outputs": [],
   "source": [
    "df2['location'].unique()"
   ]
  }
 ],
 "metadata": {
  "kernelspec": {
   "display_name": "Python 3",
   "language": "python",
   "name": "python3"
  },
  "language_info": {
   "codemirror_mode": {
    "name": "ipython",
    "version": 3
   },
   "file_extension": ".py",
   "mimetype": "text/x-python",
   "name": "python",
   "nbconvert_exporter": "python",
   "pygments_lexer": "ipython3",
   "version": "3.13.2"
  }
 },
 "nbformat": 4,
 "nbformat_minor": 5
}
